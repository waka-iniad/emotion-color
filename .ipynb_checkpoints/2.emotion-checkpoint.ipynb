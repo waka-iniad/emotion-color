{
 "cells": [
  {
   "cell_type": "code",
   "execution_count": 18,
   "id": "f47a868f-2383-40a8-956f-bf9a4dfbc0cb",
   "metadata": {},
   "outputs": [
    {
     "name": "stderr",
     "output_type": "stream",
     "text": [
      "Device set to use cpu\n",
      "findfont: Font family 'IPAexGothic' not found.\n",
      "findfont: Font family 'IPAexGothic' not found.\n",
      "findfont: Font family 'IPAexGothic' not found.\n",
      "findfont: Font family 'IPAexGothic' not found.\n",
      "findfont: Font family 'IPAexGothic' not found.\n"
     ]
    },
    {
     "name": "stdout",
     "output_type": "stream",
     "text": [
      "感情: POSITIVE（信頼度: 0.99） → 色: #FFD700\n"
     ]
    },
    {
     "data": {
      "image/png": "[encoded data removed]",
      "text/plain": [
       "<Figure size 400x200 with 1 Axes>"
      ]
     },
     "metadata": {},
     "output_type": "display_data"
    }
   ],
   "source": [
    "from transformers import pipeline\n",
    "import matplotlib.pyplot as plt\n",
    "import matplotlib.pyplot as plt\n",
    "import matplotlib\n",
    "matplotlib.rcParams['font.family'] = 'IPAexGothic'  # 他に 'Yu Gothic' なども可\n",
    "\n",
    "# 感情分析モデル(英語で)\n",
    "classifier = pipeline(\"sentiment-analysis\", model=\"distilbert-base-uncased-finetuned-sst-2-english\")\n",
    "\n",
    "# 色マッピング辞書\n",
    "emotion_to_color = {\n",
    "    \"POSITIVE\": \"#FFD700\",  # ゴールド\n",
    "    \"NEGATIVE\": \"#1E90FF\"   # ブルー\n",
    "}\n",
    "\n",
    "def text_to_emotion_color(text):\n",
    "    result = classifier(text)[0]\n",
    "    emotion = result[\"label\"]\n",
    "    score = result[\"score\"]\n",
    "    color = emotion_to_color.get(emotion, \"#808080\")  # 未知はグレー\n",
    "    return emotion, score, color\n",
    "\n",
    "def show_color_block(color):\n",
    "    fig, ax = plt.subplots(figsize=(4, 2))\n",
    "    ax.set_facecolor(color)\n",
    "    ax.set_xticks([]); ax.set_yticks([])\n",
    "    ax.set_title(f\"この色が今のあなたの気持ち\", fontsize=14)\n",
    "    plt.show()\n",
    "\n",
    "# 入力して試す\n",
    "text = \"very sad little happy\"\n",
    "emotion, score, color = text_to_emotion_color(text)\n",
    "print(f\"感情: {emotion}（信頼度: {score:.2f}） → 色: {color}\")\n",
    "show_color_block(color)\n"
   ]
  },
  {
   "cell_type": "code",
   "execution_count": null,
   "id": "a8dbb088-3ac0-4636-abe5-18daa9abf62b",
   "metadata": {},
   "outputs": [],
   "source": []
  }
 ],
 "metadata": {
  "kernelspec": {
   "display_name": "Python 3 (ipykernel)",
   "language": "python",
   "name": "python3"
  },
  "language_info": {
   "codemirror_mode": {
    "name": "ipython",
    "version": 3
   },
   "file_extension": ".py",
   "mimetype": "text/x-python",
   "name": "python",
   "nbconvert_exporter": "python",
   "pygments_lexer": "ipython3",
   "version": "3.9.15"
  }
 },
 "nbformat": 4,
 "nbformat_minor": 5
}
